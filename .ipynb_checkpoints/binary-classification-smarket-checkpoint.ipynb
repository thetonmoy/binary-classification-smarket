{
 "cells": [
  {
   "cell_type": "code",
   "execution_count": 229,
   "id": "7434a4ca-f0d9-4b57-a3f5-cb77ddc6af38",
   "metadata": {},
   "outputs": [],
   "source": [
    "import numpy as np\n",
    "import pandas as pd"
   ]
  },
  {
   "cell_type": "code",
   "execution_count": 230,
   "id": "923527ac-e112-4985-bb7e-3b4740d15d6b",
   "metadata": {},
   "outputs": [],
   "source": [
    "data = pd.read_csv(\"Smarket.csv\")\n",
    "# data"
   ]
  },
  {
   "cell_type": "code",
   "execution_count": 231,
   "id": "3f6ec72c-ec02-4a5c-963c-db187b4e3c85",
   "metadata": {},
   "outputs": [],
   "source": [
    "data['Direction'] = data['Direction'].map({'Up': 1, 'Down': 0})\n",
    "# data"
   ]
  },
  {
   "cell_type": "markdown",
   "id": "d23ff663-59ea-4965-9830-35eb6ad8a1cb",
   "metadata": {},
   "source": [
    "**Train-Test Split**"
   ]
  },
  {
   "cell_type": "code",
   "execution_count": 233,
   "id": "527fe768-05fb-4567-a322-3b4991f7c43d",
   "metadata": {},
   "outputs": [],
   "source": [
    "split_index = int(len(data) * 0.75)\n",
    "\n",
    "data = data.sample(frac=1, random_state=42).reset_index(drop=True)\n",
    "\n",
    "train_data = data.iloc[:split_index]\n",
    "test_data = data.iloc[split_index:]"
   ]
  },
  {
   "cell_type": "code",
   "execution_count": 234,
   "id": "e7c5ef67-bfcf-42b9-bdf4-f5faffa7d10b",
   "metadata": {},
   "outputs": [],
   "source": [
    "X_train = train_data.drop(['Year', 'Direction'], axis=1)\n",
    "y_train = train_data['Direction']\n",
    "\n",
    "X_test = test_data.drop(['Year', 'Direction'], axis=1)\n",
    "y_test = test_data['Direction']"
   ]
  },
  {
   "cell_type": "markdown",
   "id": "bfd28fdd-eddd-4bc0-ad45-0efdba727024",
   "metadata": {},
   "source": [
    "**Feature Scaling**"
   ]
  },
  {
   "cell_type": "code",
   "execution_count": 236,
   "id": "da416d4e-005b-4827-aa72-2ce6009158ca",
   "metadata": {},
   "outputs": [],
   "source": [
    "def min_max_normalization(df, columns):\n",
    "    normalized_df = df.copy()\n",
    "    for column in columns:\n",
    "        col_min = df[column].min()\n",
    "        col_max = df[column].max()\n",
    "        normalized_df[column] = (df[column] - col_min) / (col_max - col_min)\n",
    "    return normalized_df\n",
    "\n",
    "columns_to_scale = ['Lag1', 'Lag2', 'Lag3', 'Lag4', 'Lag5', 'Volume', 'Today']\n",
    "\n",
    "X_train = min_max_normalization(X_train, columns_to_scale)\n",
    "X_test = min_max_normalization(X_test, columns_to_scale)"
   ]
  },
  {
   "cell_type": "code",
   "execution_count": 237,
   "id": "a03cd02d-19c9-4e23-8961-9062264271f7",
   "metadata": {},
   "outputs": [],
   "source": [
    "# print(X_train.describe())\n",
    "# print(X_test.describe())"
   ]
  }
 ],
 "metadata": {
  "kernelspec": {
   "display_name": "Python 3 (ipykernel)",
   "language": "python",
   "name": "python3"
  },
  "language_info": {
   "codemirror_mode": {
    "name": "ipython",
    "version": 3
   },
   "file_extension": ".py",
   "mimetype": "text/x-python",
   "name": "python",
   "nbconvert_exporter": "python",
   "pygments_lexer": "ipython3",
   "version": "3.12.4"
  }
 },
 "nbformat": 4,
 "nbformat_minor": 5
}
